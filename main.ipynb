{
 "cells": [
  {
   "cell_type": "markdown",
   "id": "f23ce741",
   "metadata": {},
   "source": [
    "#import Liabraries "
   ]
  },
  {
   "cell_type": "code",
   "execution_count": null,
   "id": "18a0b140",
   "metadata": {},
   "outputs": [],
   "source": [
    "import numpy as np\n",
    "import pandas as pd\n",
    "from sklearn.preprocessing import StanderScaler, MinMaxScaler "
   ]
  }
 ],
 "metadata": {
  "kernelspec": {
   "display_name": "Python 3",
   "language": "python",
   "name": "python3"
  },
  "language_info": {
   "name": "python",
   "version": "3.13.7"
  }
 },
 "nbformat": 4,
 "nbformat_minor": 5
}
